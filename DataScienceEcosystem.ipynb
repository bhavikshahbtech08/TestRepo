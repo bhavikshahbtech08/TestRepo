{
 "cells": [
  {
   "cell_type": "markdown",
   "id": "591ce7a6-35cd-47ca-b420-2e734656ba00",
   "metadata": {},
   "source": [
    "# Data Science Tools and Ecosystem"
   ]
  },
  {
   "cell_type": "markdown",
   "id": "25866862-317d-4ab2-af79-bacec20e7e2b",
   "metadata": {},
   "source": [
    "In this notebook, Data Science Tools and Ecosystem are summarized."
   ]
  },
  {
   "cell_type": "markdown",
   "id": "8f8ffdb8-e986-4206-aa3f-a68659b0ac33",
   "metadata": {},
   "source": [
    "Some of the popular languages that Data Scientists use are:\n",
    "1. Python\n",
    "2. R\n",
    "3. SQL"
   ]
  },
  {
   "cell_type": "markdown",
   "id": "4790c627-41cc-4641-9008-c3917994a2c0",
   "metadata": {},
   "source": [
    "Some of the commonly used libraries used by Data Scientists include:\n",
    "1. pandas\n",
    "2. scikit-learn\n",
    "3. matplotlib\n",
    "4. SciPy\n",
    "5. keras\n",
    "6. TensorFlow"
   ]
  },
  {
   "cell_type": "markdown",
   "id": "2484ec37-af46-458d-845d-86e3fc48ae5b",
   "metadata": {},
   "source": [
    "Data Science Tools\n",
    "1. Jupyter Notebook\n",
    "2. R-Studio\n",
    "3. Google Colab"
   ]
  },
  {
   "cell_type": "markdown",
   "id": "d726dff1-d85f-4d1f-a33a-6a84b02b4214",
   "metadata": {},
   "source": [
    "### Below are a few examples of evaluating arithmetic expressions in Python"
   ]
  },
  {
   "cell_type": "code",
   "execution_count": 3,
   "id": "95079b05-a3c8-4d0c-bc59-e3706c45557c",
   "metadata": {},
   "outputs": [
    {
     "data": {
      "text/plain": [
       "17"
      ]
     },
     "execution_count": 3,
     "metadata": {},
     "output_type": "execute_result"
    }
   ],
   "source": [
    "(3*4)+5"
   ]
  },
  {
   "cell_type": "code",
   "execution_count": 2,
   "id": "815f3680-5820-4090-b2e9-a82a5df0939a",
   "metadata": {},
   "outputs": [
    {
     "data": {
      "text/plain": [
       "3.3333333333333335"
      ]
     },
     "execution_count": 2,
     "metadata": {},
     "output_type": "execute_result"
    }
   ],
   "source": [
    "200/60"
   ]
  },
  {
   "cell_type": "markdown",
   "id": "04b985d8-1b94-46ae-a1f9-f92883f23bf6",
   "metadata": {},
   "source": [
    "**Objectives**\n",
    "* List popular languages in data science\n",
    "* List commonly used libraries in data science\n",
    "* List development environment open source tools"
   ]
  },
  {
   "cell_type": "markdown",
   "id": "205fa221-81fa-4999-8846-fa8db66fc47a",
   "metadata": {},
   "source": [
    "## Author \n",
    "Bhavik"
   ]
  },
  {
   "cell_type": "code",
   "execution_count": null,
   "id": "847689eb-74ad-48f5-8908-8dc8a81a4bd1",
   "metadata": {},
   "outputs": [],
   "source": []
  }
 ],
 "metadata": {
  "kernelspec": {
   "display_name": "Python 3 (ipykernel)",
   "language": "python",
   "name": "python3"
  },
  "language_info": {
   "codemirror_mode": {
    "name": "ipython",
    "version": 3
   },
   "file_extension": ".py",
   "mimetype": "text/x-python",
   "name": "python",
   "nbconvert_exporter": "python",
   "pygments_lexer": "ipython3",
   "version": "3.12.8"
  }
 },
 "nbformat": 4,
 "nbformat_minor": 5
}
